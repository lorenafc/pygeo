{
  "nbformat": 4,
  "nbformat_minor": 0,
  "metadata": {
    "colab": {
      "provenance": [],
      "include_colab_link": true
    },
    "kernelspec": {
      "name": "python3",
      "display_name": "Python 3"
    },
    "language_info": {
      "name": "python"
    }
  },
  "cells": [
    {
      "cell_type": "markdown",
      "metadata": {
        "id": "view-in-github",
        "colab_type": "text"
      },
      "source": [
        "<a href=\"https://colab.research.google.com/github/lorenafc/pygeo/blob/main/E6.ipynb\" target=\"_parent\"><img src=\"https://colab.research.google.com/assets/colab-badge.svg\" alt=\"Open In Colab\"/></a>"
      ]
    },
    {
      "cell_type": "markdown",
      "source": [
        "**Execício M6 - Manipulação de dados matriciais (raster)**\n",
        "\n",
        "Agora vamos praticar e expandir o que aprendemos no módulo M6 - Manipulação de dados matriciais (raster). O objetivo é usar o GEE para baixar uma imagem Sentinel 2, realizar o recorte dessae imagem e calcular o NDVI. Os arquivos necessários para esse exercícios estão na pasta [M6](https://drive.google.com/drive/folders/1-rBLHhmYAdi25ATRCHtiPb3eUDhfAaIU).\n",
        "\n",
        "[Aqui](https://developers.google.com/earth-engine/datasets/catalog/COPERNICUS_S2_SR?hl=en#description) você encontra detalhes sobre a coleção de dados do GEE que deve ser utilizada nesse exercício."
      ],
      "metadata": {
        "id": "D2QgMhD_x8o5"
      }
    },
    {
      "cell_type": "markdown",
      "source": [
        "**E1 - Baixando imagens Sentinel-2 pelo GEE**\n",
        "\n",
        "a) Auntetique e inicialize o GEE\n",
        "\n",
        "b) Busque imagens da coleção \"COPERNICUS/S2_SR\" entre as 2022-01-01 e  2022-05-22 e verifique o número de imagens encontradas\n",
        "\n",
        "c) Leia o shapefile [dis_sampa_23s.shp](https://drive.google.com/drive/folders/1-rBLHhmYAdi25ATRCHtiPb3eUDhfAaIU). Ele deve ser utilizado para filtrar a coleção de imagens do GEE\n",
        "\n",
        "d) Filtre a coleção de imagens para obter apenas imagens com cobertura de nuvens inferior a 5%\n",
        "\n",
        "e) Selecione e visualize a primeira imagem da coleção filtrada\n",
        "\n",
        "f) Faça o download das bandas de reflectância de superfície apenas\n",
        "\n",
        "\n",
        "**E2 -  Recorte de raster com shapefile**\n",
        "\n",
        "a) Abra e visualize a imagem baixada em E1. Sobreponha a geometria dos limites dos distritos de São Paulo (dis_sampa_23s.shp)\n",
        "\n",
        "b) Extraia o retângulo envolvente do distrito de SANTANA\n",
        "\n",
        "c) Recorte a imagem sentinel com o retângulo envolvente extraído em b. Salve o resultado em um novo raster.\n",
        "\n",
        "d) Visualize o recorte\n",
        "\n",
        "\n",
        "\n",
        "**E3 - Manipulação de bandas**\n",
        "\n",
        "a) Leia a imagem recortada em E2 e visualize o histograma de todas as bandas\n",
        "\n",
        "b) Crie novas variáveis para armazenar as bandas do vermelho e infravermelho\n",
        "\n",
        "c) Calcule, exporte como uma nova imagem e visualize o NDVI\n",
        "\n",
        "d) Calcule o NDVI minímo, máximo, médio e mediano para o distrito de Santana\n"
      ],
      "metadata": {
        "id": "2rLtOxFccl4U"
      }
    }
  ]
}