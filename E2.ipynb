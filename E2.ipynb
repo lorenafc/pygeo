{
  "nbformat": 4,
  "nbformat_minor": 0,
  "metadata": {
    "colab": {
      "provenance": [],
      "include_colab_link": true
    },
    "kernelspec": {
      "name": "python3",
      "display_name": "Python 3"
    },
    "language_info": {
      "name": "python"
    }
  },
  "cells": [
    {
      "cell_type": "markdown",
      "metadata": {
        "id": "view-in-github",
        "colab_type": "text"
      },
      "source": [
        "<a href=\"https://colab.research.google.com/github/lorenafc/pygeo/blob/main/E2.ipynb\" target=\"_parent\"><img src=\"https://colab.research.google.com/assets/colab-badge.svg\" alt=\"Open In Colab\"/></a>"
      ]
    },
    {
      "cell_type": "markdown",
      "source": [
        "**Exercícios M2 - Trabalhando com sistemas de coordenadas**\n",
        "\n",
        "Agora vamos praticar e expandir o que aprendemos no módulo M2 - Dados espaciais e projeções com a biblioteca Geopandas."
      ],
      "metadata": {
        "id": "DOLNnt63O6-9"
      }
    },
    {
      "cell_type": "markdown",
      "source": [
        "**E1 - Crie um polígono a partir de uma lista de coordenadas**\n",
        "\n",
        "a) Crie um polígono a partir das coordenadas x e y dadas no arquivo [coords.txt](https://drive.google.com/file/d/1seLLpSB4WPVPe-JXVchbZD9-x1sd3sMr/view?usp=sharing).O sistema de coordenadas desses dados é o EPSG 29183.\n",
        "\n",
        "b) Insira o polígono criado em um geodataframe\n",
        "\n",
        "c) Salve o polígono em um shapefile\n",
        "\n",
        "d) Plote e salve uma figura do polígono\n",
        "\n",
        "DICAS:\n",
        "Para acessar o arquivo você precisa montar o Google drive (como fizemos nas aulas), ou carregar do seu computador para o Colab."
      ],
      "metadata": {
        "id": "kI0eyBMKmfhL"
      }
    },
    {
      "cell_type": "markdown",
      "source": [
        "a) Crie um polígono a partir das coordenadas x e y dadas no arquivo coords.txt"
      ],
      "metadata": {
        "id": "AlmR2tQIZDge"
      }
    },
    {
      "cell_type": "markdown",
      "source": [
        "\n",
        "b) Insira o polígono criado em um geodataframe\n"
      ],
      "metadata": {
        "id": "X6f_BvqOZHTf"
      }
    },
    {
      "cell_type": "markdown",
      "source": [
        "\n",
        "c) Salve o polígono em um shapefile\n"
      ],
      "metadata": {
        "id": "fd7r1PsWZIb5"
      }
    },
    {
      "cell_type": "markdown",
      "source": [
        "d) Plote e salve uma figura do polígono\n",
        "\n"
      ],
      "metadata": {
        "id": "NXClMyCgZr1U"
      }
    },
    {
      "cell_type": "markdown",
      "source": [
        "**E2 - Criando pontos  e plotando em um mapa**\n",
        "\n",
        "Nosso objetivo é plotar uma série de pares de coordenadas que serão lidas do arquivo csv [escooter.csv](https://drive.google.com/file/d/1Cw2UAY4aA2umJ_IMhjTtMM7ENQZO0Z1h/view?usp=sharing). Esse arquivo possui 1008 linhas  que representam a localização e horário dos pontos de destino e origem de viagens patinetes elétricos em Tempe - AZ, EUA. Esses dados são amostras de alguns dados que uso em minha pesquisa. Você encontrará as seguintes colunas nessa tabela de dados:\n",
        "\n",
        "* Timestap_Origin: Horário na localização de origem\n",
        "* Scooter_ID: número identificador do patinete elétrico\n",
        "* Long_Origin: Longitude de origem\n",
        "* Lat_Origin: Latitude de origem\n",
        "* Battery_Origin: Nível da bateria na origem\n",
        "* Timestamp_Destination: Horário na localização de destino\n",
        "* Long_Destination:Longitude do destino\n",
        "* Lat_Destination:Latitude de destino\n",
        "* Battery_Destination:  Nível da bateria no destino\n",
        "\n",
        "\n",
        "a) Leia os dados com a biblioteca pandas\n",
        "\n",
        "b) Crie uma coluna vazia chamada geometry\n",
        "\n",
        "c) Itere sob o dataframe e  insira objetos do tipo LineString que conectem a origem e o destino de cada registro\n",
        "\n",
        "d) Coverta para um GeoDataFrame e defina o sistema de coordenadas (Lat Long WGS84)\n",
        "\n",
        "e) Salve o geodataframe como shapefile\n",
        "\n",
        "f) Crie uma figura dos dados com um mapa base de fundo"
      ],
      "metadata": {
        "id": "WAuItILoGqo0"
      }
    },
    {
      "cell_type": "markdown",
      "source": [
        "a) Leia os dados com a biblioteca pandas\n"
      ],
      "metadata": {
        "id": "Tts2gRpla4ts"
      }
    },
    {
      "cell_type": "markdown",
      "source": [
        "b) Crie uma coluna vazia chamada geometry"
      ],
      "metadata": {
        "id": "5scq32EabWBt"
      }
    },
    {
      "cell_type": "markdown",
      "source": [
        "c) Itere sob o dataframe e insira objetos do tipo LineString que conectem a origem e o destino de cada registro"
      ],
      "metadata": {
        "id": "gtKgwK8_blgU"
      }
    },
    {
      "cell_type": "markdown",
      "source": [
        "d) Coverta para um GeoDataFrame e defina o sistema de coordenadas (Lat Long WGS84)"
      ],
      "metadata": {
        "id": "5yXPECZzdztY"
      }
    },
    {
      "cell_type": "markdown",
      "source": [
        "e) Salve o geodataframe como shapefile"
      ],
      "metadata": {
        "id": "2I3vY4lteY6s"
      }
    },
    {
      "cell_type": "markdown",
      "source": [
        "\n",
        "\n",
        "\n",
        "\n",
        "\n",
        "\n",
        "\n",
        "\n",
        "f) Crie uma figura dos dados com um mapa base de fundo"
      ],
      "metadata": {
        "id": "R0iNXnMea6vW"
      }
    },
    {
      "cell_type": "markdown",
      "source": [
        "**E3 - Cálculo de distâncias**\n",
        "\n",
        "Nosso objetivo é calcular a distância em metros que cada patinete elétrico percorreu e responder as seguintes perguntas:\n",
        "\n",
        "* Qual foi a menor distância percorrida em km?\n",
        "* Qual foi a distância média percorrida em km?\n",
        "* Qual foi a distância máxima percorrida em km?\n",
        "\n",
        "Reprojete os dados da projeção WGS84 para o EPSG:32612 (UTM Zona 12N - Zona UTM para o AZ - EUA)  para transformar os dados para um sistema projetado (métrico)."
      ],
      "metadata": {
        "id": "dBaof6d_l4mC"
      }
    }
  ]
}