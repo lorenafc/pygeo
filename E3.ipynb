{
  "nbformat": 4,
  "nbformat_minor": 0,
  "metadata": {
    "colab": {
      "provenance": [],
      "include_colab_link": true
    },
    "kernelspec": {
      "name": "python3",
      "display_name": "Python 3"
    },
    "language_info": {
      "name": "python"
    }
  },
  "cells": [
    {
      "cell_type": "markdown",
      "metadata": {
        "id": "view-in-github",
        "colab_type": "text"
      },
      "source": [
        "<a href=\"https://colab.research.google.com/github/lorenafc/pygeo/blob/main/E3.ipynb\" target=\"_parent\"><img src=\"https://colab.research.google.com/assets/colab-badge.svg\" alt=\"Open In Colab\"/></a>"
      ]
    },
    {
      "cell_type": "code",
      "source": [
        "# Instalações necessárias para esse exercício\n",
        "!apt update -q\n",
        "!apt upgrade -q\n",
        "!apt install gdal-bin python-gdal python3-gdal -q\n",
        "!apt install python3-rtree -q\n",
        "!pip install geopandas==0.10.0 -q\n",
        "!pip install descartes -q"
      ],
      "metadata": {
        "id": "g7rAyyZitWVs"
      },
      "execution_count": null,
      "outputs": []
    },
    {
      "cell_type": "markdown",
      "source": [
        "**Exercícios M3 - Trabalhando com geocodificação e concatenação espacial**\n",
        "\n",
        "Agora vamos praticar e expandir o que aprendemos no módulo M3 - Geocodificação, consultas espaciais e concatenação de tabelas."
      ],
      "metadata": {
        "id": "gLzB_-7P1Ieo"
      }
    },
    {
      "cell_type": "markdown",
      "source": [
        "**E1 - Geocodifique áreas verdes**\n",
        "\n",
        " Nesse exercício vamos geocodificar áreas verdes da cidade de São José dos Campos e criar um shapefile chamado areas_verdes.shp.\n",
        "\n",
        "a) Crie um .txt que nem o que utilizamos na aula (endereco.txt) para as localizações abaixo e salve como areas_verdes.txt. Adicione uma coluna chamada Local com apelidos ou nome curtos para cada área.\n",
        "\n",
        "* Praça Afonso Pena, São José dos Campos\n",
        "* Praça Ouro Preto, São José dos Campos\n",
        "* Praça Caratinga, São José dos Campos\n",
        "* Centro Poliesportivo Vila Tesouro, São José dos Campos\n",
        "* Praça Mario Porto, São José dos Campos\n",
        "* Centro da Juventude, São José dos Campos\n",
        "* Parque Vicentina Aranha, São José dos Campos\n",
        "\n",
        "b) Geocodifique os endereços\n",
        "\n",
        "c) Reprojete as geometrias para WGS84 UTM Zona 23S\n",
        "\n",
        "d) Faça uma concatenação baseada em atributo para obter a coluna local da tabela original\n",
        "\n",
        "e) Exporte como um shapefile com o nome areas_verdes.shp"
      ],
      "metadata": {
        "id": "uzZcrdy14R-S"
      }
    },
    {
      "cell_type": "markdown",
      "source": [
        "**E2 - Crie buffers ao redor das áreas verdes**\n",
        "\n",
        "Vamos criar buffers de 1 km ao redor de cada uma das áreas verdes que geocodificamos.\n",
        "\n",
        "a) Crie uma nova coluna no GeoDataFrame para armazenar o buffer\n",
        "\n",
        "b) Use a função [buffer da Geopandas](https://geopandas.org/en/stable/docs/reference/api/geopandas.GeoSeries.buffer.html)\n",
        "\n",
        "c) Crie uma cópia do GeoDataFrame original e subtitua as geometrias nele pelos polígonos do buffer"
      ],
      "metadata": {
        "id": "bnW4MjoxA5Lv"
      }
    },
    {
      "cell_type": "markdown",
      "source": [
        "**E3 - Quantas pessoas vivem em um raido de 1km dessa áreas verdes**\n",
        "\n",
        "Para responder essa pergunta utilizaremos uma concatenação baseada em relacionamento espacial (spatial join).\n",
        "\n",
        "a) Importe o arquivo pop_sjc.shp\n",
        "\n",
        "b) Execute a concatenação espacial entre o buffer e os setores censitários\n",
        "\n",
        "c) Agrupe o geodataframe pelo nome de cada área verde\n",
        "\n",
        "d) Calcule a soma da população vivendo à 1km para cada área verde.\n",
        "\n",
        "e) Insira a população total no GeoDataFrame do buffer\n"
      ],
      "metadata": {
        "id": "61bHAGPGC4WD"
      }
    }
  ]
}