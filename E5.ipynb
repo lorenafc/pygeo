{
  "nbformat": 4,
  "nbformat_minor": 0,
  "metadata": {
    "colab": {
      "provenance": [],
      "include_colab_link": true
    },
    "kernelspec": {
      "name": "python3",
      "display_name": "Python 3"
    },
    "language_info": {
      "name": "python"
    }
  },
  "cells": [
    {
      "cell_type": "markdown",
      "metadata": {
        "id": "view-in-github",
        "colab_type": "text"
      },
      "source": [
        "<a href=\"https://colab.research.google.com/github/lorenafc/pygeo/blob/main/E5.ipynb\" target=\"_parent\"><img src=\"https://colab.research.google.com/assets/colab-badge.svg\" alt=\"Open In Colab\"/></a>"
      ]
    },
    {
      "cell_type": "markdown",
      "source": [
        "**Execício M5 - Criando mapas no Python**\n",
        "\n",
        "Agora vamos praticar e expandir o que aprendemos no módulo M5 - Criando mapas  no Python. O objetivo é criar mapas dinâmicos representando a distribuição de teatros, cinemas e shows na cidade de São Paulo. E Também um mapa representando as favelas de São Paulo. Os arquivos para esse exercício podem ser encontrados [aqui](https://drive.google.com/drive/folders/1OcR9jgZ-_1dZE2wdli1bOMkYx23R5lXT) nas pastas SP_Cultura e SP_Favela. Os dados estão em SIRGAS 2000 / UTM zone 23S.\n",
        "\n",
        "**E1 - Crie um mapa coroplético iterativo das favelas de São Paulo**\n",
        "\n",
        "a) Importe o shapefile\n",
        "\n",
        "b) Certifique-se que os dados do sistema de coordenadas estão corretos\n",
        "\n",
        "c) Reprojete para WGS84\n",
        "\n",
        "d) Crie um mapa da folium centralizado no município de São Paulo e adicione o geodataframe representando o número de domicílios (fv_domicil) de cada favela.\n",
        "\n",
        "e) Faça com que o ano de implementação (fv_ano_imp) seja mostrado quando o mouse passar sobre cada geometria\n",
        "\n",
        "f) Adicione controle de camada\n",
        "\n",
        "\n",
        "**E2 - Mapeie os cinemas, teatros e shows  de São Paulo**\n",
        "\n",
        "a) Importe o shapefile\n",
        "\n",
        "b) Certifique-se que os dados do sistema de coordenadas estão corretos\n",
        "\n",
        "c) Reprojete para WGS84\n",
        "\n",
        "d) Crie um mapa da folium centralizado no município de São Paulo e adicione o geodataframe representando os teatros, cinemas e shows.\n",
        "\n",
        "e) Gere um mapa de calor interativo\n",
        "\n",
        "f) Gere um mapa de clusters interativo"
      ],
      "metadata": {
        "id": "izIV-30lZ3DU"
      }
    }
  ]
}