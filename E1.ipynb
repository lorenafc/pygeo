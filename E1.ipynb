{
  "nbformat": 4,
  "nbformat_minor": 0,
  "metadata": {
    "colab": {
      "provenance": [],
      "include_colab_link": true
    },
    "kernelspec": {
      "name": "python3",
      "display_name": "Python 3"
    },
    "language_info": {
      "name": "python"
    }
  },
  "cells": [
    {
      "cell_type": "markdown",
      "metadata": {
        "id": "view-in-github",
        "colab_type": "text"
      },
      "source": [
        "<a href=\"https://colab.research.google.com/github/lorenafc/pygeo/blob/main/E1.ipynb\" target=\"_parent\"><img src=\"https://colab.research.google.com/assets/colab-badge.svg\" alt=\"Open In Colab\"/></a>"
      ]
    },
    {
      "cell_type": "markdown",
      "source": [
        "**Exercícios M1 - Trabalhando com geometrias**\n",
        "\n",
        "Agora vamos praticar e expandir o que aprendemos no módulo M1 - Geometrias: Modelo vetorial de dados espaciais."
      ],
      "metadata": {
        "id": "UeAe-iSzaplY"
      }
    },
    {
      "cell_type": "markdown",
      "source": [
        "**E1 - Criando geometrias básicas e obtendo seus atributos**"
      ],
      "metadata": {
        "id": "UTiPD1dvV3aI"
      }
    },
    {
      "cell_type": "markdown",
      "source": [
        "a) Use o Google Maps para obter as coordenadas (Longitude, Latitude) dos cinco lugares que você mais gosta na sua cidade. Crie um objeto do tipo Point (ponto) para cada um desses lugares. Descubra qual desses locais fica a uma maior distância um do outro e quanto é essa distância. Mostre na tela o tipo de objeto de cada um dos pontos."
      ],
      "metadata": {
        "id": "ie3RaGUjvadm"
      }
    },
    {
      "cell_type": "code",
      "source": [
        "#testando - comentário adicionado"
      ],
      "metadata": {
        "id": "tnojDSvWlz3z"
      },
      "execution_count": 1,
      "outputs": []
    },
    {
      "cell_type": "markdown",
      "source": [
        "b) Crie um objeto do tipo linha (LineString) que conecta esses cinco locais. Mostre na tela o tipo de objeto dessa linha e obtenha seu comprimento total."
      ],
      "metadata": {
        "id": "bNb6hX6BwJJ-"
      }
    },
    {
      "cell_type": "markdown",
      "source": [
        "c) Descubra a área e o centróide do polígono que tem esses cinco locais como vértices."
      ],
      "metadata": {
        "id": "vgOmUx2tyuS3"
      }
    },
    {
      "cell_type": "markdown",
      "source": [
        "d) Gere o retângulo envolvente do polígono gerado em c."
      ],
      "metadata": {
        "id": "Qo66JBZqzLi1"
      }
    },
    {
      "cell_type": "markdown",
      "source": [
        "e) Crie uma coleção de geometrias do tipo Multiponto (MultiPoint) para armazenar a localização desses cinco lugares"
      ],
      "metadata": {
        "id": "JUS9bZTEzvQq"
      }
    },
    {
      "cell_type": "markdown",
      "source": [
        "**E2 - Criando geometrias a partir de coordenadas de um arquivo de texto**\n",
        "\n",
        "Os arquivos necessários para esse exercício podem ser encontrados [aqui](https://drive.google.com/drive/folders/1-Yrsu_zqvLAVQ6_2H3SwPgEkdBifXWEb?usp=sharing). Esses dados foram baixados do [portal de dados abertos do EMTU](https://www.emtu.sp.gov.br/dadosAbertosEmtu/listaArquivos.htm?a=lista&assunto=1) e representam informações do sistema de transporte paulistano.\n",
        "\n",
        "No arquivo **stops.txt** você encontra os seguintes atributos:\n",
        "1. stop_id - número identificador da parada de ônibus\n",
        "2. stop_name - nome da parada de ônibus\n",
        "3. stop_lat - latitude da parada de ônibus\n",
        "4. stop_lon - longitude da parada de ônibus\n",
        "\n",
        "No arquivo **shapes.txt** você encontra os seguintes atributos:\n",
        "1. shape_id - número identificador da linha de ônibus\n",
        "2. shape_pt_lat - latitude da parada da linha de ônibus\n",
        "3. shape_pt_lon -  longitude da parada da linha de ônibus\n",
        "4. shape_pt_sequence - número indicando a ordem da parada na linha\n",
        "\n",
        "\n",
        "DICA: Use a função pandas.read_csv para ler os arquivos .txt, verifique o separador utilizado antes de importar o arquivo.\n",
        "\n",
        "a) Crie geometrias do tipo Point para representar as paradas de ônibus\n",
        "\n",
        "b) Crie um objeto do tipo LineString para representar a linha de ônibus número 177\n",
        "\n",
        "c) Crie objetos do tipo LineString para representar cada uma das linhas de ônibus\n",
        "\n",
        "d) Calcule a comprimento médio das linhas de ônibus"
      ],
      "metadata": {
        "id": "309gv8IPz_y6"
      }
    },
    {
      "cell_type": "markdown",
      "source": [
        "\n",
        "**DESAFIO E1 - CRIE E TESTE FUNÇÕES QUE EXECUTEM AS SEGUINTES TAREFAS**\n",
        "\n",
        "Os exercícios desafio são uma excelente oportunidade para expandir suas habilidades como programador(a).\n",
        "\n",
        "**Dica:** [Nesse vídeo](https://alunos.clickgeo.com.br/76589-be-a-ba-do-python/1813241-dia-9-criando-funcoes) explico em detalhes como criar funções.\n",
        "Escreva uma função que cria geometrias de pontos e outra que cria geometrias de linha. Use-as para resolver novamente o exercício E2a e E2b.\n"
      ],
      "metadata": {
        "id": "whJkhjlN0e9K"
      }
    }
  ]
}