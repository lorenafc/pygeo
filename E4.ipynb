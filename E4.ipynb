{
  "nbformat": 4,
  "nbformat_minor": 0,
  "metadata": {
    "colab": {
      "provenance": [],
      "include_colab_link": true
    },
    "kernelspec": {
      "name": "python3",
      "display_name": "Python 3"
    },
    "language_info": {
      "name": "python"
    }
  },
  "cells": [
    {
      "cell_type": "markdown",
      "metadata": {
        "id": "view-in-github",
        "colab_type": "text"
      },
      "source": [
        "<a href=\"https://colab.research.google.com/github/lorenafc/pygeo/blob/main/E4.ipynb\" target=\"_parent\"><img src=\"https://colab.research.google.com/assets/colab-badge.svg\" alt=\"Open In Colab\"/></a>"
      ]
    },
    {
      "cell_type": "code",
      "source": [
        "# Instalações necessárias para esse exercício\n",
        "!apt update -q\n",
        "!apt upgrade -q\n",
        "!apt install gdal-bin python-gdal python3-gdal -q\n",
        "!apt install python3-rtree -q\n",
        "!pip install geopandas==0.10.0\n",
        "!pip install descartes -q"
      ],
      "metadata": {
        "id": "wPEX-QCs4-oT"
      },
      "execution_count": null,
      "outputs": []
    },
    {
      "cell_type": "markdown",
      "source": [
        "**Execício M4 - Trabalhando com dados OSM,  análise de vizinhança e reclassificação de dados**\n",
        "\n",
        "Agora vamos praticar e expandir o que aprendemos no módulo M4 - Trabalhando com dados OSM,  análise de vizinhança e reclassificação de dados.\n",
        "\n",
        "O objetivo geral é definir áreas de dominância para 8 shopping centers em Helsinque com diferentes modos de viagem (transporte público, carro particular). O último passo é descobrir quantas pessoas vivem nas áreas de domínio desses grandes shopping centers na região de Helsinque.\n"
      ],
      "metadata": {
        "id": "xnQx18JYYtBx"
      }
    },
    {
      "cell_type": "markdown",
      "source": [
        "**E1- Combinando dados de acessibilidade em um grid e criando visualizações**\n",
        "\n",
        "Acesse [aqui](https://drive.google.com/drive/folders/1p25YEUx6pdb_VX3bNLYyLC54TIDDmmsa) um conjunto de dados que inclui 7 arquivos de texto contendo dados sobre acessibilidade na região de Helsinki e um Shapefile que contém uma grade de polígonos que pode ser usada para visualizar e analisar os dados espacialmente.\n",
        "\n",
        "Os conjuntos de dados são:\n",
        "* travel_times_to_ [XXXXXXX] _ [NOME DO SHOPPING] .txt incluindo tempos de viagem e distâncias da rede rodoviária até um shopping center específico\n",
        "\n",
        "* MetropAccess_YKR_grid_EurefFIN.shp incluindo a grade Polygon com coluna YKR_ID que pode ser usada para unir a grade com os dados de acessibilidade\n",
        "\n",
        "a) Leia esses arquivos de dados travel_time (um por um) com a Pandas e selecione apenas as seguintes colunas :\n",
        "* pt_r_tt  - tempo transporte público\n",
        "* car_r_t - tempo de carro\n",
        "* from_id - id da célula de origem\n",
        "* to_id - id da célula de destino\n",
        "\n",
        "b) Visualize os tempos de viagem classificados (Transporte público e carro) de pelo menos um dos shoppings usando os métodos de classificação que aprendemos na aula."
      ],
      "metadata": {
        "id": "ouK-lVFuaJ-Z"
      }
    },
    {
      "cell_type": "markdown",
      "source": [
        "**E2- Calcule e visualize as áreas de influência de cada shopping**\n",
        "\n",
        "O objetivo é definir a área de influência para cada um desses shopping centers com base no tempo de viagem de carro.\n",
        "\n",
        "a) Itere sobre os arquivos de acessibilidade um por um e renomeie as colunas de tempo de viagem para que possam ser identificadas para cada shopping\n",
        "\n",
        "b) Junte essas as colunas que indicam o tempo de viagem para cada shopping ao shapefile em MetropAccess_YKR_grid_EurefFIN.shp onde YKR_ID na grade corresponde a from_id no arquivo de dados de tempo de viagem. No final você deve ter um GeoDataFrame com diferentes colunas mostrando os tempos de viagem para diferentes shopping centers.\n",
        "\n",
        "c) Para cada linha descubra o valor mínimo de todas as colunas XXX_car_r_tt e insira esse valor em uma nova coluna chamada min_car.\n",
        "\n",
        "d) Para cada linha descubra o nome do shopping mais próximo e insira esse valor em uma nova coluna chamada influência.\n",
        "\n",
        "e) Visualize os tempos de viagem da nossa coluna min_car usando um classificador\n",
        "\n",
        "f) Visualize também os valores na coluna influência"
      ],
      "metadata": {
        "id": "mqLXEzhihcNq"
      }
    },
    {
      "cell_type": "markdown",
      "source": [
        "**E3 - Quantas pessoas vivem na área de influência de cada shopping**\n",
        "\n",
        "Os dados de população estão no shapefile Vaestotietoruudukko_2020.shp, a coluna asukaita  indica a população.\n",
        "\n",
        "a) Leia os dados de população\n",
        "\n",
        "b) Agregue as áreas de influência em geometrias unificadas usando a função [dissolve()](https://geopandas.org/en/stable/docs/user_guide/aggregation_with_dissolve.html)\n",
        "\n",
        "c) Performe uma junção espacial (spatial join) entre as áreas de influência e os dados de população\n",
        "\n",
        "d) Agrupe os dados resultantes do spatial join por área de influência e obtenha a soma da população na área de cada shopping\n",
        "\n",
        "e) Performe um table join entre os dados do agrupamento em d e as geometrias das áreas de influência\n",
        "\n",
        "f) Visualize o resultado usando um classificador e um mapa base"
      ],
      "metadata": {
        "id": "KV7nyyYzv4ww"
      }
    }
  ]
}